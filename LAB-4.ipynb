{
  "nbformat": 4,
  "nbformat_minor": 0,
  "metadata": {
    "colab": {
      "provenance": [],
      "authorship_tag": "ABX9TyNaOmFmOAwo5C3M4tSZ4Hxl",
      "include_colab_link": true
    },
    "kernelspec": {
      "name": "python3",
      "display_name": "Python 3"
    },
    "language_info": {
      "name": "python"
    }
  },
  "cells": [
    {
      "cell_type": "markdown",
      "metadata": {
        "id": "view-in-github",
        "colab_type": "text"
      },
      "source": [
        "<a href=\"https://colab.research.google.com/github/Vineesha2005/B-14_1873_PDS/blob/main/LAB-4.ipynb\" target=\"_parent\"><img src=\"https://colab.research.google.com/assets/colab-badge.svg\" alt=\"Open In Colab\"/></a>"
      ]
    },
    {
      "cell_type": "markdown",
      "source": [
        "Q1:\n",
        "Student Marks Analysis"
      ],
      "metadata": {
        "id": "9Oe9mpF4etGf"
      }
    },
    {
      "cell_type": "code",
      "source": [
        "import pandas as pd\n",
        "\n",
        "# Create a sample dataset for students\n",
        "data = {\n",
        "    \"Student_ID\": [1, 2, 3, 4],\n",
        "    \"Name\": [\"Alice\", \"Bob\", \"Charlie\", \"David\"],\n",
        "    \"Math\": [80, None, 60, 90],\n",
        "    \"Science\": [70, 85, None, 95],\n",
        "    \"English\": [88, 76, 79, None]\n",
        "}\n",
        "df = pd.DataFrame(data)\n",
        "\n",
        "# Save to CSV\n",
        "df.to_csv(\"student_scores.csv\", index=False)\n",
        "\n",
        "print(\"Sample student_scores.csv created ✅\")\n",
        "import pandas as pd\n",
        "\n",
        "# Load dataset (make sure student_scores.csv is in the same folder as your code)\n",
        "df = pd.read_csv(\"student_scores.csv\")\n",
        "\n",
        "print(\"Original Columns:\", df.columns)  # check exact column names\n",
        "\n",
        "# Convert numeric columns to proper type (just in case)\n",
        "for col in ['Math', 'Science', 'English']:\n",
        "    df[col] = pd.to_numeric(df[col], errors='coerce')\n",
        "\n",
        "# Fill missing marks with subject mean\n",
        "df.fillna(df.mean(numeric_only=True), inplace=True)\n",
        "\n",
        "# Filter high achievers\n",
        "high_achievers = df[(df['Math'] > 75) & (df['Science'] > 75) & (df['English'] > 75)]\n",
        "\n",
        "print(\"\\nCleaned Data:\\n\", df)\n",
        "print(\"\\nHigh Achievers:\\n\", high_achievers)\n",
        "\n"
      ],
      "metadata": {
        "colab": {
          "base_uri": "https://localhost:8080/"
        },
        "id": "EGF5F6-qggjx",
        "outputId": "3aff85d3-30ac-4487-f132-316e21d6cdd8"
      },
      "execution_count": 6,
      "outputs": [
        {
          "output_type": "stream",
          "name": "stdout",
          "text": [
            "Sample student_scores.csv created ✅\n",
            "Original Columns: Index(['Student_ID', 'Name', 'Math', 'Science', 'English'], dtype='object')\n",
            "\n",
            "Cleaned Data:\n",
            "    Student_ID     Name       Math    Science  English\n",
            "0           1    Alice  80.000000  70.000000     88.0\n",
            "1           2      Bob  76.666667  85.000000     76.0\n",
            "2           3  Charlie  60.000000  83.333333     79.0\n",
            "3           4    David  90.000000  95.000000     81.0\n",
            "\n",
            "High Achievers:\n",
            "    Student_ID   Name       Math  Science  English\n",
            "1           2    Bob  76.666667     85.0     76.0\n",
            "3           4  David  90.000000     95.0     81.0\n"
          ]
        }
      ]
    },
    {
      "cell_type": "markdown",
      "source": [
        "Q2: Hospital Patient Records"
      ],
      "metadata": {
        "id": "rpTSh_R9g3oF"
      }
    },
    {
      "cell_type": "code",
      "source": [
        "# Create a sample dataset for patients\n",
        "patients_data = {\n",
        "    \"Patient_ID\": [101, 102, 103, 104],\n",
        "    \"Name\": [\"Anita\", \"Ravi\", \"Sita\", \"Kiran\"],\n",
        "    \"Age\": [55, None, 60, 45],\n",
        "    \"Gender\": [\"Female\", \"Male\", \"Female\", \"Female\"],\n",
        "    \"Diagnosis\": [\"Diabetes\", \"Cancer\", \"Diabetes\", \"Flu\"],\n",
        "    \"Admission_Date\": [\"2025-08-01\", \"2025-08-05\", \"2025-08-10\", \"2025-08-12\"]\n",
        "}\n",
        "patients = pd.DataFrame(patients_data)\n",
        "\n",
        "# Save to CSV\n",
        "patients.to_csv(\"patients.csv\", index=False)\n",
        "\n",
        "print(\"Sample patients.csv created ✅\")\n",
        "import pandas as pd\n",
        "\n",
        "# Load dataset\n",
        "patients = pd.read_csv(\"patients.csv\")\n",
        "\n",
        "print(\"Original Columns:\", patients.columns)  # helps us see actual names\n",
        "\n",
        "# Make sure Age column is numeric\n",
        "patients['Age'] = pd.to_numeric(patients['Age'], errors='coerce')\n",
        "\n",
        "# Replace missing ages with median\n",
        "patients['Age'].fillna(patients['Age'].median(), inplace=True)\n",
        "\n",
        "# Normalize Gender and Diagnosis (remove case sensitivity & spaces)\n",
        "patients['Gender'] = patients['Gender'].str.strip().str.capitalize()\n",
        "patients['Diagnosis'] = patients['Diagnosis'].str.strip().str.lower()\n",
        "\n",
        "# Filter: Female, Age > 50, Diabetes\n",
        "elderly_female_diabetes = patients[\n",
        "    (patients['Gender'] == \"Female\") &\n",
        "    (patients['Age'] > 50) &\n",
        "    (patients['Diagnosis'] == \"diabetes\")\n",
        "]\n",
        "\n",
        "print(\"\\nCleaned Patient Data:\\n\", patients)\n",
        "print(\"\\nElderly Female Diabetes Patients:\\n\", elderly_female_diabetes)\n"
      ],
      "metadata": {
        "colab": {
          "base_uri": "https://localhost:8080/"
        },
        "id": "ZKv9eSQbg8q8",
        "outputId": "41394f0a-133a-4eb9-b0aa-7626b95bbf69"
      },
      "execution_count": 7,
      "outputs": [
        {
          "output_type": "stream",
          "name": "stdout",
          "text": [
            "Sample patients.csv created ✅\n",
            "Original Columns: Index(['Patient_ID', 'Name', 'Age', 'Gender', 'Diagnosis', 'Admission_Date'], dtype='object')\n",
            "\n",
            "Cleaned Patient Data:\n",
            "    Patient_ID   Name   Age  Gender Diagnosis Admission_Date\n",
            "0         101  Anita  55.0  Female  diabetes     2025-08-01\n",
            "1         102   Ravi  55.0    Male    cancer     2025-08-05\n",
            "2         103   Sita  60.0  Female  diabetes     2025-08-10\n",
            "3         104  Kiran  45.0  Female       flu     2025-08-12\n",
            "\n",
            "Elderly Female Diabetes Patients:\n",
            "    Patient_ID   Name   Age  Gender Diagnosis Admission_Date\n",
            "0         101  Anita  55.0  Female  diabetes     2025-08-01\n",
            "2         103   Sita  60.0  Female  diabetes     2025-08-10\n"
          ]
        },
        {
          "output_type": "stream",
          "name": "stderr",
          "text": [
            "/tmp/ipython-input-749755899.py:27: FutureWarning: A value is trying to be set on a copy of a DataFrame or Series through chained assignment using an inplace method.\n",
            "The behavior will change in pandas 3.0. This inplace method will never work because the intermediate object on which we are setting values always behaves as a copy.\n",
            "\n",
            "For example, when doing 'df[col].method(value, inplace=True)', try using 'df.method({col: value}, inplace=True)' or df[col] = df[col].method(value) instead, to perform the operation inplace on the original object.\n",
            "\n",
            "\n",
            "  patients['Age'].fillna(patients['Age'].median(), inplace=True)\n"
          ]
        }
      ]
    }
  ]
}