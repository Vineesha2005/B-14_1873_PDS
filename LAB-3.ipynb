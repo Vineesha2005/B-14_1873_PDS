{
  "nbformat": 4,
  "nbformat_minor": 0,
  "metadata": {
    "colab": {
      "provenance": [],
      "authorship_tag": "ABX9TyNsMaJUregOIM3alThuFlBk",
      "include_colab_link": true
    },
    "kernelspec": {
      "name": "python3",
      "display_name": "Python 3"
    },
    "language_info": {
      "name": "python"
    }
  },
  "cells": [
    {
      "cell_type": "markdown",
      "metadata": {
        "id": "view-in-github",
        "colab_type": "text"
      },
      "source": [
        "<a href=\"https://colab.research.google.com/github/Vineesha2005/B-14_1873_PDS/blob/main/LAB-3.ipynb\" target=\"_parent\"><img src=\"https://colab.research.google.com/assets/colab-badge.svg\" alt=\"Open In Colab\"/></a>"
      ]
    },
    {
      "cell_type": "markdown",
      "source": [
        "Matrix Addition and Subtraction (NumPy)"
      ],
      "metadata": {
        "id": "igS0FMlFsJQH"
      }
    },
    {
      "cell_type": "code",
      "source": [
        "import numpy as np\n",
        "\n",
        "# Step 1: Create two 3x3 NumPy arrays with random integers\n",
        "A = np.random.randint(1, 20, size=(3, 3))\n",
        "B = np.random.randint(1, 20, size=(3, 3))\n",
        "\n",
        "print(\"Matrix A:\\n\", A)\n",
        "print(\"\\nMatrix B:\\n\", B)\n",
        "\n",
        "# Step 2: Perform element-wise addition and subtraction\n",
        "addition = np.add(A, B)\n",
        "subtraction = np.subtract(A, B)\n",
        "\n",
        "print(\"\\nMatrix Addition (A + B):\\n\", addition)\n",
        "print(\"\\nMatrix Subtraction (A - B):\\n\", subtraction)\n",
        "\n",
        "# Step 3: Verify manual calculation for one element\n",
        "i, j = 1, 2  # 2nd row, 3rd column (example)\n",
        "manual_add = A[i, j] + B[i, j]\n",
        "print(f\"\\nManual Check for A[1,2] + B[1,2]: {A[i,j]} + {B[i,j]} = {manual_add}\")\n",
        "print(\"Verification:\", addition[i, j] == manual_add)\n",
        "\n",
        "# Step 4: Comment on broadcasting (if needed)\n",
        "print(\"\\nNote: Broadcasting is NOT used here since both matrices have the same shape (3x3).\")\n"
      ],
      "metadata": {
        "colab": {
          "base_uri": "https://localhost:8080/"
        },
        "id": "Mc8-EpIAsNPv",
        "outputId": "3c8ce1dc-6c37-488e-802d-0387bf1379ac"
      },
      "execution_count": 1,
      "outputs": [
        {
          "output_type": "stream",
          "name": "stdout",
          "text": [
            "Matrix A:\n",
            " [[ 4  2 13]\n",
            " [11 13  9]\n",
            " [12  3 15]]\n",
            "\n",
            "Matrix B:\n",
            " [[11  9  1]\n",
            " [13  9 18]\n",
            " [18 19  9]]\n",
            "\n",
            "Matrix Addition (A + B):\n",
            " [[15 11 14]\n",
            " [24 22 27]\n",
            " [30 22 24]]\n",
            "\n",
            "Matrix Subtraction (A - B):\n",
            " [[ -7  -7  12]\n",
            " [ -2   4  -9]\n",
            " [ -6 -16   6]]\n",
            "\n",
            "Manual Check for A[1,2] + B[1,2]: 9 + 18 = 27\n",
            "Verification: True\n",
            "\n",
            "Note: Broadcasting is NOT used here since both matrices have the same shape (3x3).\n"
          ]
        }
      ]
    },
    {
      "cell_type": "markdown",
      "source": [
        "2D Matrix Multiplication (Dot Product)"
      ],
      "metadata": {
        "id": "Va6pFLbjsQZU"
      }
    },
    {
      "cell_type": "code",
      "source": [
        "import numpy as np\n",
        "import matplotlib.pyplot as plt\n",
        "\n",
        "# Step 1: Create two compatible matrices (3x2) & (2x3)\n",
        "A = np.random.randint(1, 10, size=(3, 2))\n",
        "B = np.random.randint(1, 10, size=(2, 3))\n",
        "\n",
        "print(\"Matrix A (3x2):\\n\", A)\n",
        "print(\"\\nMatrix B (2x3):\\n\", B)\n",
        "\n",
        "# Step 2: Perform dot product using np.dot() or @ operator\n",
        "C = np.dot(A, B)\n",
        "# Alternatively: C = A @ B\n",
        "\n",
        "print(\"\\nResult of Matrix Multiplication (A x B):\\n\", C)\n",
        "\n",
        "# Step 3: Verify dimensions manually\n",
        "print(\"\\nDimensions: A =\", A.shape, \", B =\", B.shape, \", Result =\", C.shape)\n",
        "\n",
        "# Step 4: Optional Visualization using Matplotlib\n",
        "fig, axs = plt.subplots(1, 3, figsize=(12, 4))\n",
        "\n",
        "axs[0].imshow(A, cmap=\"Blues\")\n",
        "axs[0].set_title(\"Matrix A\")\n",
        "\n",
        "axs[1].imshow(B, cmap=\"Greens\")\n",
        "axs[1].set_title(\"Matrix B\")\n",
        "\n",
        "axs[2].imshow(C, cmap=\"Oranges\")\n",
        "axs[2].set_title(\"Result (A x B)\")\n",
        "\n",
        "plt.tight_layout()\n",
        "plt.show()\n"
      ],
      "metadata": {
        "colab": {
          "base_uri": "https://localhost:8080/",
          "height": 678
        },
        "id": "TrP2zUnbsYP3",
        "outputId": "f3c6e433-99a1-4262-e288-0b3a3cfff5c2"
      },
      "execution_count": 2,
      "outputs": [
        {
          "output_type": "stream",
          "name": "stdout",
          "text": [
            "Matrix A (3x2):\n",
            " [[4 6]\n",
            " [9 5]\n",
            " [4 7]]\n",
            "\n",
            "Matrix B (2x3):\n",
            " [[7 5 3]\n",
            " [9 7 2]]\n",
            "\n",
            "Result of Matrix Multiplication (A x B):\n",
            " [[ 82  62  24]\n",
            " [108  80  37]\n",
            " [ 91  69  26]]\n",
            "\n",
            "Dimensions: A = (3, 2) , B = (2, 3) , Result = (3, 3)\n"
          ]
        },
        {
          "output_type": "display_data",
          "data": {
            "text/plain": [
              "<Figure size 1200x400 with 3 Axes>"
            ],
            "image/png": "[encoded data removed]"
          },
          "metadata": {}
        }
      ]
    }
  ]
}