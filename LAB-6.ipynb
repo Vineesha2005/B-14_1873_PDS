{
  "nbformat": 4,
  "nbformat_minor": 0,
  "metadata": {
    "colab": {
      "provenance": [],
      "authorship_tag": "ABX9TyNakG9d96adbBIXtPZlVQgP",
      "include_colab_link": true
    },
    "kernelspec": {
      "name": "python3",
      "display_name": "Python 3"
    },
    "language_info": {
      "name": "python"
    }
  },
  "cells": [
    {
      "cell_type": "markdown",
      "metadata": {
        "id": "view-in-github",
        "colab_type": "text"
      },
      "source": [
        "<a href=\"https://colab.research.google.com/github/Vineesha2005/B-14_1873_PDS/blob/main/LAB-6.ipynb\" target=\"_parent\"><img src=\"https://colab.research.google.com/assets/colab-badge.svg\" alt=\"Open In Colab\"/></a>"
      ]
    },
    {
      "cell_type": "code",
      "execution_count": 1,
      "metadata": {
        "id": "I_2LO4qXgIgL",
        "colab": {
          "base_uri": "https://localhost:8080/"
        },
        "outputId": "fc7fd053-857b-4369-c43c-af239ebc440a"
      },
      "outputs": [
        {
          "output_type": "stream",
          "name": "stdout",
          "text": [
            "Before Cleaning:\n",
            " PassengerId    0\n",
            "Name           0\n",
            "Age            2\n",
            "Sex            0\n",
            "Embarked       1\n",
            "Cabin          2\n",
            "dtype: int64\n",
            "\n",
            "After Cleaning:\n",
            " PassengerId    0\n",
            "Name           0\n",
            "Age            0\n",
            "Sex            0\n",
            "Embarked       0\n",
            "dtype: int64\n",
            "\n",
            "Cleaned Data:\n",
            "    PassengerId          Name        Age     Sex Embarked\n",
            "0            1    John Smith  22.000000    male        S\n",
            "1            2    Anna Brown  28.666667  female        C\n",
            "2            3      Mark Lee  35.000000    male        S\n",
            "3            4  Sophie Jones  29.000000  female        Q\n",
            "4            5    Tom Harris  28.666667    male        S\n"
          ]
        },
        {
          "output_type": "stream",
          "name": "stderr",
          "text": [
            "/tmp/ipython-input-3762442214.py:9: FutureWarning: A value is trying to be set on a copy of a DataFrame or Series through chained assignment using an inplace method.\n",
            "The behavior will change in pandas 3.0. This inplace method will never work because the intermediate object on which we are setting values always behaves as a copy.\n",
            "\n",
            "For example, when doing 'df[col].method(value, inplace=True)', try using 'df.method({col: value}, inplace=True)' or df[col] = df[col].method(value) instead, to perform the operation inplace on the original object.\n",
            "\n",
            "\n",
            "  df['Age'].fillna(df['Age'].mean(), inplace=True)\n",
            "/tmp/ipython-input-3762442214.py:12: FutureWarning: A value is trying to be set on a copy of a DataFrame or Series through chained assignment using an inplace method.\n",
            "The behavior will change in pandas 3.0. This inplace method will never work because the intermediate object on which we are setting values always behaves as a copy.\n",
            "\n",
            "For example, when doing 'df[col].method(value, inplace=True)', try using 'df.method({col: value}, inplace=True)' or df[col] = df[col].method(value) instead, to perform the operation inplace on the original object.\n",
            "\n",
            "\n",
            "  df['Embarked'].fillna(df['Embarked'].mode()[0], inplace=True)\n"
          ]
        }
      ],
      "source": [
        "import pandas as pd\n",
        "\n",
        "# Load dataset\n",
        "df = pd.read_csv(\"titanic.csv\")\n",
        "\n",
        "print(\"Before Cleaning:\\n\", df.isnull().sum())\n",
        "\n",
        "# Fill missing Age with mean\n",
        "df['Age'].fillna(df['Age'].mean(), inplace=True)\n",
        "\n",
        "# Fill missing Embarked with mode\n",
        "df['Embarked'].fillna(df['Embarked'].mode()[0], inplace=True)\n",
        "\n",
        "# Drop Cabin column\n",
        "df.drop(columns=['Cabin'], inplace=True)\n",
        "\n",
        "print(\"\\nAfter Cleaning:\\n\", df.isnull().sum())\n",
        "print(\"\\nCleaned Data:\\n\", df.head())\n"
      ]
    },
    {
      "cell_type": "code",
      "source": [
        "import pandas as pd\n",
        "\n",
        "# Load dataset\n",
        "df = pd.read_csv(\"students.csv\")\n",
        "\n",
        "print(\"Before Cleaning:\\n\", df['Gender'].unique())\n",
        "\n",
        "# Standardize Gender column\n",
        "df['Gender'] = df['Gender'].replace({\n",
        "    'M': 'Male',\n",
        "    'male': 'Male',\n",
        "    'F': 'Female',\n",
        "    'female': 'Female'\n",
        "})\n",
        "\n",
        "print(\"\\nAfter Cleaning:\\n\", df['Gender'].unique())\n",
        "print(\"\\nCleaned Data:\\n\", df.head())\n"
      ],
      "metadata": {
        "colab": {
          "base_uri": "https://localhost:8080/"
        },
        "id": "bBDxpwmJgrd1",
        "outputId": "7c1a5833-4a61-4f45-86b2-e98658b3c735"
      },
      "execution_count": 2,
      "outputs": [
        {
          "output_type": "stream",
          "name": "stdout",
          "text": [
            "Before Cleaning:\n",
            " ['M' 'Male' 'male' 'F' 'Female']\n",
            "\n",
            "After Cleaning:\n",
            " ['Male' 'Female']\n",
            "\n",
            "Cleaned Data:\n",
            "    StudentID    Name  Gender  Age\n",
            "0        101    Ravi    Male   20\n",
            "1        102   Priya    Male   21\n",
            "2        103    John    Male   22\n",
            "3        104  Anjali  Female   20\n",
            "4        105   Sneha  Female   23\n"
          ]
        }
      ]
    }
  ]
}