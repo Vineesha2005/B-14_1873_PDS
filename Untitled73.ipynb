{
  "nbformat": 4,
  "nbformat_minor": 0,
  "metadata": {
    "colab": {
      "provenance": [],
      "authorship_tag": "ABX9TyNPMZa9ysuycc1r2Puhp2m7",
      "include_colab_link": true
    },
    "kernelspec": {
      "name": "python3",
      "display_name": "Python 3"
    },
    "language_info": {
      "name": "python"
    }
  },
  "cells": [
    {
      "cell_type": "markdown",
      "metadata": {
        "id": "view-in-github",
        "colab_type": "text"
      },
      "source": [
        "<a href=\"https://colab.research.google.com/github/Vineesha2005/B-14_1873_PDS/blob/main/Untitled73.ipynb\" target=\"_parent\"><img src=\"https://colab.research.google.com/assets/colab-badge.svg\" alt=\"Open In Colab\"/></a>"
      ]
    },
    {
      "cell_type": "code",
      "execution_count": null,
      "metadata": {
        "id": "3duwuIctbtyh"
      },
      "outputs": [],
      "source": [
        "import numpy as np\n",
        "arr1=np.array([1,2,3,4])\n",
        "print(\"1D Array:\",array1)\n",
        "\n",
        "arr2=np.array([[1,2,3],[4,5,6]])\n",
        "print(\"2D Array:\\n\",arr2)\n",
        "\n",
        "Zeros_arr=np.Zeros((3,3))\n",
        "print(\"Zeros Arrays:\\n\",zeros_arr)\n",
        "\n",
        "ones_arr=np.ones((2,4))\n",
        "print(\"ones Arrays:/a\",ones-arr)\n",
        "\n",
        "range_arr=np.arrange(o,10,2)\n",
        "start+"
      ]
    }
  ]
}