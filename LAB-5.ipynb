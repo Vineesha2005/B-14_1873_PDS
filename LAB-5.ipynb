{
  "nbformat": 4,
  "nbformat_minor": 0,
  "metadata": {
    "colab": {
      "provenance": [],
      "authorship_tag": "ABX9TyNW7bx3T65jLUdPDbwCBxh7",
      "include_colab_link": true
    },
    "kernelspec": {
      "name": "python3",
      "display_name": "Python 3"
    },
    "language_info": {
      "name": "python"
    }
  },
  "cells": [
    {
      "cell_type": "markdown",
      "metadata": {
        "id": "view-in-github",
        "colab_type": "text"
      },
      "source": [
        "<a href=\"https://colab.research.google.com/github/Vineesha2005/B-14_1873_PDS/blob/main/LAB-5.ipynb\" target=\"_parent\"><img src=\"https://colab.research.google.com/assets/colab-badge.svg\" alt=\"Open In Colab\"/></a>"
      ]
    },
    {
      "cell_type": "code",
      "source": [
        "import pandas as pd\n",
        "\n",
        "# Load Excel file with two sheets\n",
        "file_path = \"student_exam_data.xlsx\"   # upload this file in Colab\n",
        "\n",
        "# Read each sheet\n",
        "students = pd.read_excel(file_path, sheet_name=\"Students\")\n",
        "scores = pd.read_excel(file_path, sheet_name=\"Exam_Scores\")\n",
        "\n",
        "# Merge datasets\n",
        "merged_df = pd.merge(students, scores, on=\"StudentID\", how=\"inner\")\n",
        "\n",
        "print(\"Merged Dataset:\")\n",
        "print(merged_df)\n",
        "\n",
        "# Aggregate statistics (overall)\n",
        "print(\"\\nAggregate Statistics:\")\n",
        "print(merged_df[\"Score\"].agg(['mean', 'max', 'min', 'std']))\n",
        "\n",
        "# Group by Department\n",
        "print(\"\\nDepartment-wise Average Scores:\")\n",
        "print(merged_df.groupby(\"Department\")[\"Score\"].mean())\n",
        "\n",
        "# Group by Gender\n",
        "print(\"\\nGender-wise Average Scores:\")\n",
        "print(merged_df.groupby(\"Gender\")[\"Score\"].mean())\n",
        "\n",
        "# Group by Department and Gender\n",
        "print(\"\\nDepartment & Gender-wise Average Scores:\")\n",
        "print(merged_df.groupby([\"Department\",\"Gender\"])[\"Score\"].mean())\n"
      ],
      "metadata": {
        "colab": {
          "base_uri": "https://localhost:8080/"
        },
        "id": "3ha5HlNbnjjJ",
        "outputId": "97b44461-fd29-4528-b2d9-d119db2eaa05"
      },
      "execution_count": 2,
      "outputs": [
        {
          "output_type": "stream",
          "name": "stdout",
          "text": [
            "Merged Dataset:\n",
            "   StudentID    Name Department Gender Subject  Score\n",
            "0        101    Ravi        CSE      M  Python     85\n",
            "1        102   Priya        CSE      F  Python     90\n",
            "2        103   Arjun        ECE      M  Python     78\n",
            "3        104   Sneha        ECE      F  Python     88\n",
            "4        105   Kiran       MECH      M  Python     70\n",
            "5        106  Anusha        CSE      F  Python     92\n",
            "6        107  Manish       MECH      M  Python     75\n",
            "7        108   Divya        ECE      F  Python     80\n",
            "\n",
            "Aggregate Statistics:\n",
            "mean    82.250000\n",
            "max     92.000000\n",
            "min     70.000000\n",
            "std      7.759786\n",
            "Name: Score, dtype: float64\n",
            "\n",
            "Department-wise Average Scores:\n",
            "Department\n",
            "CSE     89.0\n",
            "ECE     82.0\n",
            "MECH    72.5\n",
            "Name: Score, dtype: float64\n",
            "\n",
            "Gender-wise Average Scores:\n",
            "Gender\n",
            "F    87.5\n",
            "M    77.0\n",
            "Name: Score, dtype: float64\n",
            "\n",
            "Department & Gender-wise Average Scores:\n",
            "Department  Gender\n",
            "CSE         F         91.0\n",
            "            M         85.0\n",
            "ECE         F         84.0\n",
            "            M         78.0\n",
            "MECH        M         72.5\n",
            "Name: Score, dtype: float64\n"
          ]
        }
      ]
    },
    {
      "cell_type": "code",
      "source": [
        "import pandas as pd\n",
        "\n",
        "# Load Excel file with two sheets\n",
        "file_path = \"customers_sales_data.xlsx\"   # upload this file in Colab first\n",
        "\n",
        "# Read each sheet\n",
        "customers = pd.read_excel(file_path, sheet_name=\"Customers\")\n",
        "sales = pd.read_excel(file_path, sheet_name=\"Sales\")\n",
        "\n",
        "# Merge datasets on customer_id\n",
        "merged_inner = pd.merge(customers, sales, on=\"customer_id\", how=\"inner\")\n",
        "merged_left = pd.merge(customers, sales, on=\"customer_id\", how=\"left\")\n",
        "\n",
        "print(\"Merged Dataset (Inner Join):\")\n",
        "print(merged_inner)\n",
        "\n",
        "print(\"\\nMerged Dataset (Left Join):\")\n",
        "print(merged_left)\n",
        "\n",
        "# Sales statistics (total, mean, per customer)\n",
        "print(\"\\nOverall Sales Statistics:\")\n",
        "print(merged_inner[\"amount\"].agg(['sum','mean','max','min']))\n",
        "\n",
        "print(\"\\nAverage Sales Per Customer:\")\n",
        "print(merged_inner.groupby(\"name\")[\"amount\"].mean())\n",
        "\n",
        "# Group sales by region\n",
        "print(\"\\nRegion-wise Sales Statistics:\")\n",
        "print(merged_inner.groupby(\"region\")[\"amount\"].agg(['sum','mean','max','min']))\n"
      ],
      "metadata": {
        "colab": {
          "base_uri": "https://localhost:8080/"
        },
        "id": "gczsk1edqiLc",
        "outputId": "8685fc85-9344-4381-ce7b-e4aeff7d4974"
      },
      "execution_count": 4,
      "outputs": [
        {
          "output_type": "stream",
          "name": "stdout",
          "text": [
            "Merged Dataset (Inner Join):\n",
            "   customer_id    name region  sale_id product  amount\n",
            "0          201  Ramesh  North        1  Laptop   55000\n",
            "1          201  Ramesh  North        9  Mobile   25000\n",
            "2          202   Priya  South        2  Mobile   20000\n",
            "3          202   Priya  South       10  Tablet   12000\n",
            "4          203   Arjun   East        3  Tablet   15000\n",
            "5          204   Sneha   West        4  Laptop   60000\n",
            "6          205   Kiran  North        5  Mobile   22000\n",
            "7          206  Anusha  South        6  Laptop   58000\n",
            "8          207  Manish   East        7  Tablet   18000\n",
            "9          208   Divya   West        8  Laptop   62000\n",
            "\n",
            "Merged Dataset (Left Join):\n",
            "   customer_id    name region  sale_id product  amount\n",
            "0          201  Ramesh  North        1  Laptop   55000\n",
            "1          201  Ramesh  North        9  Mobile   25000\n",
            "2          202   Priya  South        2  Mobile   20000\n",
            "3          202   Priya  South       10  Tablet   12000\n",
            "4          203   Arjun   East        3  Tablet   15000\n",
            "5          204   Sneha   West        4  Laptop   60000\n",
            "6          205   Kiran  North        5  Mobile   22000\n",
            "7          206  Anusha  South        6  Laptop   58000\n",
            "8          207  Manish   East        7  Tablet   18000\n",
            "9          208   Divya   West        8  Laptop   62000\n",
            "\n",
            "Overall Sales Statistics:\n",
            "sum     347000.0\n",
            "mean     34700.0\n",
            "max      62000.0\n",
            "min      12000.0\n",
            "Name: amount, dtype: float64\n",
            "\n",
            "Average Sales Per Customer:\n",
            "name\n",
            "Anusha    58000.0\n",
            "Arjun     15000.0\n",
            "Divya     62000.0\n",
            "Kiran     22000.0\n",
            "Manish    18000.0\n",
            "Priya     16000.0\n",
            "Ramesh    40000.0\n",
            "Sneha     60000.0\n",
            "Name: amount, dtype: float64\n",
            "\n",
            "Region-wise Sales Statistics:\n",
            "           sum     mean    max    min\n",
            "region                               \n",
            "East     33000  16500.0  18000  15000\n",
            "North   102000  34000.0  55000  22000\n",
            "South    90000  30000.0  58000  12000\n",
            "West    122000  61000.0  62000  60000\n"
          ]
        }
      ]
    }
  ]
}