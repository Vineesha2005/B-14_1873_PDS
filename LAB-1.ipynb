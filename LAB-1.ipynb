{
  "nbformat": 4,
  "nbformat_minor": 0,
  "metadata": {
    "colab": {
      "provenance": [],
      "authorship_tag": "ABX9TyNbhXM8r7Wbay6in7NlfD6M",
      "include_colab_link": true
    },
    "kernelspec": {
      "name": "python3",
      "display_name": "Python 3"
    },
    "language_info": {
      "name": "python"
    }
  },
  "cells": [
    {
      "cell_type": "markdown",
      "metadata": {
        "id": "view-in-github",
        "colab_type": "text"
      },
      "source": [
        "<a href=\"https://colab.research.google.com/github/Vineesha2005/B-14_1873_PDS/blob/main/LAB-2.ipynb\" target=\"_parent\"><img src=\"https://colab.research.google.com/assets/colab-badge.svg\" alt=\"Open In Colab\"/></a>"
      ]
    },
    {
      "cell_type": "markdown",
      "source": [
        "Q1. Recursive Factorial Calculation"
      ],
      "metadata": {
        "id": "4B49vpNZpDZO"
      }
    },
    {
      "cell_type": "code",
      "source": [
        "# Recursive Factorial Function\n",
        "def factorial_recursive(n):\n",
        "    if n < 0:\n",
        "        return \"Invalid input! Enter a non-negative integer.\"\n",
        "    elif n == 0 or n == 1:\n",
        "        print(f\"factorial({n}) = 1 (base case)\")\n",
        "        return 1\n",
        "    else:\n",
        "        print(f\"factorial({n}) = {n} * factorial({n-1})\")\n",
        "        return n * factorial_recursive(n - 1)\n",
        "\n",
        "# Iterative Factorial Function\n",
        "def factorial_iterative(n):\n",
        "    if n < 0:\n",
        "        return \"Invalid input! Enter a non-negative integer.\"\n",
        "    result = 1\n",
        "    for i in range(1, n+1):\n",
        "        result *= i\n",
        "    return result\n",
        "\n",
        "# Test\n",
        "num = 5\n",
        "print(\"\\nRecursive Solution:\")\n",
        "print(f\"{num}! =\", factorial_recursive(num))\n",
        "\n",
        "print(\"\\nIterative Solution:\")\n",
        "print(f\"{num}! =\", factorial_iterative(num))\n"
      ],
      "metadata": {
        "colab": {
          "base_uri": "https://localhost:8080/"
        },
        "id": "OrfdRkq2pbgP",
        "outputId": "7c0dcd54-be45-48ab-c4de-1fa09281f09f"
      },
      "execution_count": 5,
      "outputs": [
        {
          "output_type": "stream",
          "name": "stdout",
          "text": [
            "\n",
            "Recursive Solution:\n",
            "factorial(5) = 5 * factorial(4)\n",
            "factorial(4) = 4 * factorial(3)\n",
            "factorial(3) = 3 * factorial(2)\n",
            "factorial(2) = 2 * factorial(1)\n",
            "factorial(1) = 1 (base case)\n",
            "5! = 120\n",
            "\n",
            "Iterative Solution:\n",
            "5! = 120\n"
          ]
        }
      ]
    },
    {
      "cell_type": "markdown",
      "source": [
        "Q2. Calculate nCr Using Recursive Factorial"
      ],
      "metadata": {
        "id": "Ii43kT52plxZ"
      }
    },
    {
      "cell_type": "code",
      "source": [
        "# Recursive Factorial (re-used from Q1)\n",
        "def factorial_recursive(n):\n",
        "    if n < 0:\n",
        "        return \"Invalid input! Enter a non-negative integer.\"\n",
        "    elif n == 0 or n == 1:\n",
        "        return 1\n",
        "    else:\n",
        "        return n * factorial_recursive(n - 1)\n",
        "\n",
        "# Function to compute nCr\n",
        "def nCr(n, r):\n",
        "    if n < 0 or r < 0 or r > n:\n",
        "        return \"Invalid input! Ensure n ≥ r ≥ 0\"\n",
        "    return factorial_recursive(n) // (factorial_recursive(r) * factorial_recursive(n - r))\n",
        "\n",
        "# Test\n",
        "print(\"nCr Examples:\")\n",
        "print(\"5C2 =\", nCr(5, 2))   # 10\n",
        "print(\"6C0 =\", nCr(6, 0))   # 1\n",
        "print(\"6C6 =\", nCr(6, 6))   # 1\n"
      ],
      "metadata": {
        "colab": {
          "base_uri": "https://localhost:8080/"
        },
        "id": "v-mdAq1zpvCg",
        "outputId": "c3d85f6a-a3ba-4a3d-8259-9da683afd4f1"
      },
      "execution_count": 6,
      "outputs": [
        {
          "output_type": "stream",
          "name": "stdout",
          "text": [
            "nCr Examples:\n",
            "5C2 = 10\n",
            "6C0 = 1\n",
            "6C6 = 1\n"
          ]
        }
      ]
    }
  ]
}
