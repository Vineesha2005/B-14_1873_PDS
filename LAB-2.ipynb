{
  "nbformat": 4,
  "nbformat_minor": 0,
  "metadata": {
    "colab": {
      "provenance": [],
      "authorship_tag": "ABX9TyNUUuYD4IASVqIkaojOYdvh",
      "include_colab_link": true
    },
    "kernelspec": {
      "name": "python3",
      "display_name": "Python 3"
    },
    "language_info": {
      "name": "python"
    }
  },
  "cells": [
    {
      "cell_type": "markdown",
      "metadata": {
        "id": "view-in-github",
        "colab_type": "text"
      },
      "source": [
        "<a href=\"https://colab.research.google.com/github/Vineesha2005/B-14_1873_PDS/blob/main/LAB-2.ipynb\" target=\"_parent\"><img src=\"https://colab.research.google.com/assets/colab-badge.svg\" alt=\"Open In Colab\"/></a>"
      ]
    },
    {
      "cell_type": "markdown",
      "source": [
        "Student Grades Analysis Using NumPy"
      ],
      "metadata": {
        "id": "qLXCVvGLrFkS"
      }
    },
    {
      "cell_type": "code",
      "source": [
        "import numpy as np\n",
        "\n",
        "# Step 1: Create a 2D NumPy array for student marks\n",
        "# Assume 5 students and marks in 3 subjects\n",
        "marks = np.array([\n",
        "    [85, 78, 92],  # Student 1\n",
        "    [76, 88, 69],  # Student 2\n",
        "    [90, 82, 85],  # Student 3\n",
        "    [65, 70, 72],  # Student 4\n",
        "    [88, 95, 91]   # Student 5\n",
        "])\n",
        "\n",
        "print(\"Student Marks:\\n\", marks)\n",
        "\n",
        "# Step 2: Calculate average, minimum, and maximum marks\n",
        "avg_marks = np.mean(marks)\n",
        "min_marks = np.min(marks)\n",
        "max_marks = np.max(marks)\n",
        "\n",
        "print(\"\\nAverage Marks (Overall):\", avg_marks)\n",
        "print(\"Minimum Marks (Overall):\", min_marks)\n",
        "print(\"Maximum Marks (Overall):\", max_marks)\n",
        "\n",
        "# Step 3: Slicing to retrieve marks of specific students (e.g., 1st and 3rd student)\n",
        "print(\"\\nMarks of Student 1:\", marks[0])\n",
        "print(\"Marks of Student 3:\", marks[2])\n",
        "\n",
        "# Step 4: Boolean indexing → Find students scoring above 80 in any subject\n",
        "students_above_80 = marks > 80\n",
        "print(\"\\nBoolean Array (True if marks > 80):\\n\", students_above_80)\n",
        "\n",
        "# Step 5: Find students whose total marks > 240\n",
        "total_marks = np.sum(marks, axis=1)\n",
        "students_high_score = total_marks > 240\n",
        "print(\"\\nTotal Marks per Student:\", total_marks)\n",
        "print(\"Students with total marks > 240:\", students_high_score)\n",
        "\n",
        "# Step 6: Reshape array for subject-wise performance (Transpose)\n",
        "subject_wise = marks.T\n",
        "print(\"\\nSubject-wise Performance:\\n\", subject_wise)\n",
        "\n",
        "# Step 7: Comment based on results\n",
        "print(\"\\nAnalysis:\")\n",
        "print(\"→ Highest scorer has\", np.max(total_marks), \"marks.\")\n",
        "print(\"→ Average overall performance is\", round(avg_marks, 2))\n",
        "print(\"→ Best subject performance:\", np.argmax(np.mean(subject_wise, axis=1)) + 1)\n"
      ],
      "metadata": {
        "colab": {
          "base_uri": "https://localhost:8080/"
        },
        "id": "AeWif4H_rIBM",
        "outputId": "26a5fac4-7afe-4bd3-8416-ec5d03ba2771"
      },
      "execution_count": 1,
      "outputs": [
        {
          "output_type": "stream",
          "name": "stdout",
          "text": [
            "Student Marks:\n",
            " [[85 78 92]\n",
            " [76 88 69]\n",
            " [90 82 85]\n",
            " [65 70 72]\n",
            " [88 95 91]]\n",
            "\n",
            "Average Marks (Overall): 81.73333333333333\n",
            "Minimum Marks (Overall): 65\n",
            "Maximum Marks (Overall): 95\n",
            "\n",
            "Marks of Student 1: [85 78 92]\n",
            "Marks of Student 3: [90 82 85]\n",
            "\n",
            "Boolean Array (True if marks > 80):\n",
            " [[ True False  True]\n",
            " [False  True False]\n",
            " [ True  True  True]\n",
            " [False False False]\n",
            " [ True  True  True]]\n",
            "\n",
            "Total Marks per Student: [255 233 257 207 274]\n",
            "Students with total marks > 240: [ True False  True False  True]\n",
            "\n",
            "Subject-wise Performance:\n",
            " [[85 76 90 65 88]\n",
            " [78 88 82 70 95]\n",
            " [92 69 85 72 91]]\n",
            "\n",
            "Analysis:\n",
            "→ Highest scorer has 274 marks.\n",
            "→ Average overall performance is 81.73\n",
            "→ Best subject performance: 2\n"
          ]
        }
      ]
    },
    {
      "cell_type": "markdown",
      "source": [
        "Employee Salary Analysis with Pandas"
      ],
      "metadata": {
        "id": "bIrK1dTxrS4T"
      }
    },
    {
      "cell_type": "code",
      "source": [
        "import pandas as pd\n",
        "\n",
        "# Step 1: Create a pandas DataFrame\n",
        "data = {\n",
        "    'Employee_ID': [101, 102, 103, 104, 105],\n",
        "    'Name': ['Ravi', 'Priya', 'Kiran', 'Sneha', 'Arjun'],\n",
        "    'Department': ['IT', 'HR', 'Finance', 'IT', 'Marketing'],\n",
        "    'Salary': [55000, 45000, 65000, 52000, 70000]\n",
        "}\n",
        "\n",
        "df = pd.DataFrame(data)\n",
        "print(\"Initial Employee Data:\\n\", df)\n",
        "\n",
        "# Step 2: Filter employees with salary > 50,000\n",
        "high_salary = df[df['Salary'] > 50000]\n",
        "print(\"\\nEmployees with Salary > 50,000:\\n\", high_salary)\n",
        "\n",
        "# Step 3: Sort the DataFrame by salary in descending order\n",
        "sorted_df = df.sort_values(by='Salary', ascending=False)\n",
        "print(\"\\nEmployees Sorted by Salary:\\n\", sorted_df)\n",
        "\n",
        "# Step 4: Add a new column for Bonus (10% of Salary)\n",
        "df['Bonus'] = df['Salary'] * 0.10\n",
        "print(\"\\nDataFrame with Bonus Column:\\n\", df)\n",
        "\n",
        "# Step 5: Calculate total salary expense including bonuses\n",
        "df['Total_Payout'] = df['Salary'] + df['Bonus']\n",
        "total_expense = df['Total_Payout'].sum()\n",
        "print(\"\\nTotal Salary Expense (Including Bonus):\", total_expense)\n",
        "\n",
        "# Step 6: Save the DataFrame to a CSV file\n",
        "df.to_csv(\"Employee_Salary_Analysis.csv\", index=False)\n",
        "print(\"\\nCSV File 'Employee_Salary_Analysis.csv' Saved Successfully!\")\n"
      ],
      "metadata": {
        "colab": {
          "base_uri": "https://localhost:8080/"
        },
        "id": "WAj4Ukz5rrFD",
        "outputId": "1d08a4e6-5e85-46fd-ea1e-1a1470d46ba0"
      },
      "execution_count": 2,
      "outputs": [
        {
          "output_type": "stream",
          "name": "stdout",
          "text": [
            "Initial Employee Data:\n",
            "    Employee_ID   Name Department  Salary\n",
            "0          101   Ravi         IT   55000\n",
            "1          102  Priya         HR   45000\n",
            "2          103  Kiran    Finance   65000\n",
            "3          104  Sneha         IT   52000\n",
            "4          105  Arjun  Marketing   70000\n",
            "\n",
            "Employees with Salary > 50,000:\n",
            "    Employee_ID   Name Department  Salary\n",
            "0          101   Ravi         IT   55000\n",
            "2          103  Kiran    Finance   65000\n",
            "3          104  Sneha         IT   52000\n",
            "4          105  Arjun  Marketing   70000\n",
            "\n",
            "Employees Sorted by Salary:\n",
            "    Employee_ID   Name Department  Salary\n",
            "4          105  Arjun  Marketing   70000\n",
            "2          103  Kiran    Finance   65000\n",
            "0          101   Ravi         IT   55000\n",
            "3          104  Sneha         IT   52000\n",
            "1          102  Priya         HR   45000\n",
            "\n",
            "DataFrame with Bonus Column:\n",
            "    Employee_ID   Name Department  Salary   Bonus\n",
            "0          101   Ravi         IT   55000  5500.0\n",
            "1          102  Priya         HR   45000  4500.0\n",
            "2          103  Kiran    Finance   65000  6500.0\n",
            "3          104  Sneha         IT   52000  5200.0\n",
            "4          105  Arjun  Marketing   70000  7000.0\n",
            "\n",
            "Total Salary Expense (Including Bonus): 315700.0\n",
            "\n",
            "CSV File 'Employee_Salary_Analysis.csv' Saved Successfully!\n"
          ]
        }
      ]
    }
  ]
}